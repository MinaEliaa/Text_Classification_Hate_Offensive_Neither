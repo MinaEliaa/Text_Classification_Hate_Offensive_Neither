{
 "cells": [
  {
   "cell_type": "code",
   "execution_count": 1,
   "id": "3384640f",
   "metadata": {},
   "outputs": [],
   "source": [
    "import numpy as np #-> basic data operations\n",
    "import pandas as pd \n",
    "import nlpaug.augmenter.word as naw\n",
    "import seaborn as sns #->c bonds,used in confusion matrix\n",
    "import matplotlib.pyplot as plt #-> visulize the data\n",
    "%matplotlib inline\n",
    "from matplotlib import style #-> setting the style using the style function\n",
    "style.use('ggplot') #-> set the style ggplot\n",
    "import string\n",
    "from sklearn.model_selection import GridSearchCV\n",
    "import nltk\n",
    "from nltk.tokenize import word_tokenize #-> to perform word tokenization\n",
    "from nltk.corpus import stopwords #-> to perform wordstop\n",
    "stop_words = set(stopwords.words('english')) #-> set the language as english for our stopword\n",
    "from nltk.util import pr\n",
    "from nltk.stem.porter import *\n",
    "from nltk.stem import WordNetLemmatizer\n",
    "from nltk.stem.porter import PorterStemmer\n",
    "from nltk.corpus import wordnet #-> used in POS 'n,v,adj,etc'\n",
    "import re #->regex functions used in data cleaning\n",
    "from nltk.corpus import brown\n",
    "from nltk.stem import WordNetLemmatizer\n",
    "from nltk.sentiment.vader import SentimentIntensityAnalyzer as VS\n",
    "\n",
    "from sklearn.feature_extraction.text import CountVectorizer\n",
    "from sklearn.feature_extraction.text import TfidfVectorizer \n",
    "from sklearn.metrics import confusion_matrix #->for confusion matrix \n",
    "\n",
    "from sklearn.model_selection import train_test_split\n",
    "from sklearn.feature_selection import SelectFromModel\n",
    "from sklearn.metrics import classification_report,ConfusionMatrixDisplay,accuracy_score #->for our results--to print report,acc,display confusionMAtrix'\n",
    "from sklearn.svm import LinearSVC\n",
    "from sklearn.ensemble import RandomForestClassifier\n",
    "from sklearn.naive_bayes import GaussianNB\n",
    "from sklearn.tree import DecisionTreeClassifier\n",
    "from sklearn.neighbors import KNeighborsClassifier\n",
    "from sklearn.metrics import f1_score, accuracy_score, precision_score, recall_score, make_scorer\n",
    "from time import time\n",
    "\n",
    "import warnings\n",
    "warnings.simplefilter(action='ignore', category=FutureWarning)\n",
    "\n",
    "from wordcloud import WordCloud #->for visualization"
   ]
  },
  {
   "cell_type": "code",
   "execution_count": 2,
   "id": "bc08a42a",
   "metadata": {},
   "outputs": [],
   "source": [
    "dataset = pd.read_csv('labeled_data.csv')"
   ]
  },
  {
   "cell_type": "code",
   "execution_count": 3,
   "id": "92b605af",
   "metadata": {},
   "outputs": [
    {
     "data": {
      "text/html": [
       "<div>\n",
       "<style scoped>\n",
       "    .dataframe tbody tr th:only-of-type {\n",
       "        vertical-align: middle;\n",
       "    }\n",
       "\n",
       "    .dataframe tbody tr th {\n",
       "        vertical-align: top;\n",
       "    }\n",
       "\n",
       "    .dataframe thead th {\n",
       "        text-align: right;\n",
       "    }\n",
       "</style>\n",
       "<table border=\"1\" class=\"dataframe\">\n",
       "  <thead>\n",
       "    <tr style=\"text-align: right;\">\n",
       "      <th></th>\n",
       "      <th>Unnamed: 0</th>\n",
       "      <th>count</th>\n",
       "      <th>hate_speech</th>\n",
       "      <th>offensive_language</th>\n",
       "      <th>neither</th>\n",
       "      <th>class</th>\n",
       "      <th>tweet</th>\n",
       "    </tr>\n",
       "  </thead>\n",
       "  <tbody>\n",
       "    <tr>\n",
       "      <th>0</th>\n",
       "      <td>0</td>\n",
       "      <td>3</td>\n",
       "      <td>0</td>\n",
       "      <td>0</td>\n",
       "      <td>3</td>\n",
       "      <td>2</td>\n",
       "      <td>!!! RT @mayasolovely: As a woman you shouldn't...</td>\n",
       "    </tr>\n",
       "    <tr>\n",
       "      <th>1</th>\n",
       "      <td>1</td>\n",
       "      <td>3</td>\n",
       "      <td>0</td>\n",
       "      <td>3</td>\n",
       "      <td>0</td>\n",
       "      <td>1</td>\n",
       "      <td>!!!!! RT @mleew17: boy dats cold...tyga dwn ba...</td>\n",
       "    </tr>\n",
       "    <tr>\n",
       "      <th>2</th>\n",
       "      <td>2</td>\n",
       "      <td>3</td>\n",
       "      <td>0</td>\n",
       "      <td>3</td>\n",
       "      <td>0</td>\n",
       "      <td>1</td>\n",
       "      <td>!!!!!!! RT @UrKindOfBrand Dawg!!!! RT @80sbaby...</td>\n",
       "    </tr>\n",
       "    <tr>\n",
       "      <th>3</th>\n",
       "      <td>3</td>\n",
       "      <td>3</td>\n",
       "      <td>0</td>\n",
       "      <td>2</td>\n",
       "      <td>1</td>\n",
       "      <td>1</td>\n",
       "      <td>!!!!!!!!! RT @C_G_Anderson: @viva_based she lo...</td>\n",
       "    </tr>\n",
       "    <tr>\n",
       "      <th>4</th>\n",
       "      <td>4</td>\n",
       "      <td>6</td>\n",
       "      <td>0</td>\n",
       "      <td>6</td>\n",
       "      <td>0</td>\n",
       "      <td>1</td>\n",
       "      <td>!!!!!!!!!!!!! RT @ShenikaRoberts: The shit you...</td>\n",
       "    </tr>\n",
       "  </tbody>\n",
       "</table>\n",
       "</div>"
      ],
      "text/plain": [
       "   Unnamed: 0  count  hate_speech  offensive_language  neither  class  \\\n",
       "0           0      3            0                   0        3      2   \n",
       "1           1      3            0                   3        0      1   \n",
       "2           2      3            0                   3        0      1   \n",
       "3           3      3            0                   2        1      1   \n",
       "4           4      6            0                   6        0      1   \n",
       "\n",
       "                                               tweet  \n",
       "0  !!! RT @mayasolovely: As a woman you shouldn't...  \n",
       "1  !!!!! RT @mleew17: boy dats cold...tyga dwn ba...  \n",
       "2  !!!!!!! RT @UrKindOfBrand Dawg!!!! RT @80sbaby...  \n",
       "3  !!!!!!!!! RT @C_G_Anderson: @viva_based she lo...  \n",
       "4  !!!!!!!!!!!!! RT @ShenikaRoberts: The shit you...  "
      ]
     },
     "execution_count": 3,
     "metadata": {},
     "output_type": "execute_result"
    }
   ],
   "source": [
    "dataset.head()"
   ]
  },
  {
   "cell_type": "code",
   "execution_count": 4,
   "id": "7aace31b",
   "metadata": {},
   "outputs": [],
   "source": [
    "classes = ['Hate Speech','Offensive Language','None']"
   ]
  },
  {
   "cell_type": "code",
   "execution_count": 5,
   "id": "90e8c37a",
   "metadata": {},
   "outputs": [],
   "source": [
    "dataset.drop(['count','hate_speech','offensive_language','neither','Unnamed: 0'],axis=1,inplace=True)"
   ]
  },
  {
   "cell_type": "code",
   "execution_count": 6,
   "id": "79ecc0aa",
   "metadata": {},
   "outputs": [
    {
     "data": {
      "text/html": [
       "<div>\n",
       "<style scoped>\n",
       "    .dataframe tbody tr th:only-of-type {\n",
       "        vertical-align: middle;\n",
       "    }\n",
       "\n",
       "    .dataframe tbody tr th {\n",
       "        vertical-align: top;\n",
       "    }\n",
       "\n",
       "    .dataframe thead th {\n",
       "        text-align: right;\n",
       "    }\n",
       "</style>\n",
       "<table border=\"1\" class=\"dataframe\">\n",
       "  <thead>\n",
       "    <tr style=\"text-align: right;\">\n",
       "      <th></th>\n",
       "      <th>class</th>\n",
       "      <th>tweet</th>\n",
       "    </tr>\n",
       "  </thead>\n",
       "  <tbody>\n",
       "    <tr>\n",
       "      <th>0</th>\n",
       "      <td>2</td>\n",
       "      <td>!!! RT @mayasolovely: As a woman you shouldn't...</td>\n",
       "    </tr>\n",
       "    <tr>\n",
       "      <th>1</th>\n",
       "      <td>1</td>\n",
       "      <td>!!!!! RT @mleew17: boy dats cold...tyga dwn ba...</td>\n",
       "    </tr>\n",
       "    <tr>\n",
       "      <th>2</th>\n",
       "      <td>1</td>\n",
       "      <td>!!!!!!! RT @UrKindOfBrand Dawg!!!! RT @80sbaby...</td>\n",
       "    </tr>\n",
       "    <tr>\n",
       "      <th>3</th>\n",
       "      <td>1</td>\n",
       "      <td>!!!!!!!!! RT @C_G_Anderson: @viva_based she lo...</td>\n",
       "    </tr>\n",
       "    <tr>\n",
       "      <th>4</th>\n",
       "      <td>1</td>\n",
       "      <td>!!!!!!!!!!!!! RT @ShenikaRoberts: The shit you...</td>\n",
       "    </tr>\n",
       "  </tbody>\n",
       "</table>\n",
       "</div>"
      ],
      "text/plain": [
       "   class                                              tweet\n",
       "0      2  !!! RT @mayasolovely: As a woman you shouldn't...\n",
       "1      1  !!!!! RT @mleew17: boy dats cold...tyga dwn ba...\n",
       "2      1  !!!!!!! RT @UrKindOfBrand Dawg!!!! RT @80sbaby...\n",
       "3      1  !!!!!!!!! RT @C_G_Anderson: @viva_based she lo...\n",
       "4      1  !!!!!!!!!!!!! RT @ShenikaRoberts: The shit you..."
      ]
     },
     "execution_count": 6,
     "metadata": {},
     "output_type": "execute_result"
    }
   ],
   "source": [
    "dataset.head()"
   ]
  },
  {
   "cell_type": "code",
   "execution_count": 7,
   "id": "3d90a18a",
   "metadata": {},
   "outputs": [
    {
     "data": {
      "text/plain": [
       "(24783, 2)"
      ]
     },
     "execution_count": 7,
     "metadata": {},
     "output_type": "execute_result"
    }
   ],
   "source": [
    "dataset.shape"
   ]
  },
  {
   "cell_type": "code",
   "execution_count": 8,
   "id": "9ef2254b",
   "metadata": {},
   "outputs": [
    {
     "name": "stdout",
     "output_type": "stream",
     "text": [
      "Hate Speech  :  1430\n",
      "Offensive Language  :  19190\n",
      "None  :  4163\n"
     ]
    },
    {
     "data": {
      "image/png": "[encoded data removed]",
      "text/plain": [
       "<Figure size 640x480 with 1 Axes>"
      ]
     },
     "metadata": {},
     "output_type": "display_data"
    }
   ],
   "source": [
    "labels = dataset['class']\n",
    "unique, counts = np.unique(labels, return_counts=True)\n",
    "values = list(zip(unique, counts))\n",
    "plt.bar(classes,counts)\n",
    "for i in values:\n",
    "    print(classes[i[0]],' : ',i[1])\n",
    "plt.show()"
   ]
  },
  {
   "cell_type": "code",
   "execution_count": 9,
   "id": "0b87d937",
   "metadata": {},
   "outputs": [
    {
     "name": "stdout",
     "output_type": "stream",
     "text": [
      "(1430, 2)\n",
      "(19190, 2)\n",
      "(4163, 2)\n"
     ]
    }
   ],
   "source": [
    "hate_tweets = dataset[dataset['class']==0]\n",
    "offensive_tweets = dataset[dataset['class']==1]\n",
    "neither = dataset[dataset['class']==2]\n",
    "print(hate_tweets.shape)\n",
    "print(offensive_tweets.shape)\n",
    "print(neither.shape)"
   ]
  },
  {
   "cell_type": "code",
   "execution_count": 10,
   "id": "48c249f3",
   "metadata": {},
   "outputs": [
    {
     "name": "stdout",
     "output_type": "stream",
     "text": [
      "(11440, 2)\n",
      "(12000, 2)\n",
      "(12489, 2)\n"
     ]
    }
   ],
   "source": [
    "for i in range(3):\n",
    "    hate_tweets = pd.concat([hate_tweets,hate_tweets],ignore_index = True)\n",
    "neither = pd.concat([neither,neither,neither], ignore_index = True)\n",
    "offensive_tweets = offensive_tweets.iloc[0:12000,:]\n",
    "print(hate_tweets.shape)\n",
    "print(offensive_tweets.shape)\n",
    "print(neither.shape)"
   ]
  },
  {
   "cell_type": "code",
   "execution_count": 11,
   "id": "c35fa23b",
   "metadata": {},
   "outputs": [
    {
     "data": {
      "text/plain": [
       "(35929, 2)"
      ]
     },
     "execution_count": 11,
     "metadata": {},
     "output_type": "execute_result"
    }
   ],
   "source": [
    "dataset = pd.concat([hate_tweets,offensive_tweets,neither],ignore_index = True)\n",
    "dataset.shape"
   ]
  },
  {
   "cell_type": "code",
   "execution_count": 12,
   "id": "b6021978",
   "metadata": {},
   "outputs": [
    {
     "name": "stdout",
     "output_type": "stream",
     "text": [
      "Hate Speech  :  11440\n",
      "Offensive Language  :  12000\n",
      "None  :  12489\n"
     ]
    },
    {
     "data": {
      "image/png": "[encoded data removed]",
      "text/plain": [
       "<Figure size 640x480 with 1 Axes>"
      ]
     },
     "metadata": {},
     "output_type": "display_data"
    }
   ],
   "source": [
    "labels = dataset['class']\n",
    "unique, counts = np.unique(labels, return_counts=True)\n",
    "values = list(zip(unique, counts))\n",
    "plt.bar(classes,counts)\n",
    "for i in values:\n",
    "    print(classes[i[0]],' : ',i[1])\n",
    "plt.show()"
   ]
  },
  {
   "cell_type": "code",
   "execution_count": 13,
   "id": "8cb4c191",
   "metadata": {},
   "outputs": [],
   "source": [
    "# collecting only the tweets from the csv file into a variable name tweet\n",
    "tweet=dataset.tweet"
   ]
  },
  {
   "cell_type": "code",
   "execution_count": 14,
   "id": "5be8687d",
   "metadata": {},
   "outputs": [
    {
     "name": "stdout",
     "output_type": "stream",
     "text": [
      "                                    processed_tweets\n",
      "0                                       queer gaywad\n",
      "1           alsarabsss he beaner smh tell he mexican\n",
      "2      fuck gay blacklist hoe hold tehgodclan anyway\n",
      "3       lmfaoooo hate black peopl black peopl nigger\n",
      "4                                 least nigger lmfao\n",
      "5  ariza snake coward least crippl like hero roac...\n",
      "6  drake new shoe releas nike jordan ye glitter s...\n",
      "7  gerryshalloweenparti halloween yesterday stupi...\n",
      "8                    bore suppos cute faggot sometim\n",
      "9      lassen cc coach want feel youll get nig doubt\n"
     ]
    }
   ],
   "source": [
    "## 1. Removal of punctuation and capitlization\n",
    "## 2. Tokenizing\n",
    "## 3. Removal of stopwords\n",
    "## 4. Stemming\n",
    "\n",
    "stopwords = nltk.corpus.stopwords.words(\"english\") \n",
    "\n",
    "#extending the stopwords to include other words used in twitter such as retweet(rt) etc.\n",
    "other_exclusions = [\"#ff\", \"ff\", \"rt\"]\n",
    "stopwords.extend(other_exclusions)\n",
    "stemmer = PorterStemmer()\n",
    "\n",
    "def preprocess(tweet):  \n",
    "    \n",
    "    # removal of extra spaces\n",
    "    regex_pat = re.compile(r'\\s+')\n",
    "    tweet_space = tweet.str.replace(regex_pat, ' ')\n",
    "\n",
    "    # removal of @name[mention]\n",
    "    regex_pat = re.compile(r'@[\\w\\-]+')\n",
    "    tweet_name = tweet_space.str.replace(regex_pat, '')\n",
    "\n",
    "    # removal of links[https://abc.com]\n",
    "    giant_url_regex =  re.compile('http[s]?://(?:[a-zA-Z]|[0-9]|[$-_@.&+]|'\n",
    "            '[!*\\(\\),]|(?:%[0-9a-fA-F][0-9a-fA-F]))+')\n",
    "    tweets = tweet_name.str.replace(giant_url_regex, '')\n",
    "    \n",
    "    # removal of punctuations and numbers\n",
    "    punc_remove = tweets.str.replace(\"[^a-zA-Z]\", \" \")\n",
    "    # remove whitespace with a single space\n",
    "    newtweet=punc_remove.str.replace(r'\\s+', ' ')\n",
    "    # remove leading and trailing whitespace\n",
    "    newtweet=newtweet.str.replace(r'^\\s+|\\s+?$','')\n",
    "    # replace normal numbers with numbr\n",
    "    newtweet=newtweet.str.replace(r'\\d+(\\.\\d+)?','numbr')\n",
    "    # removal of capitalization\n",
    "    tweet_lower = newtweet.str.lower()\n",
    "    \n",
    "    # tokenizing\n",
    "    tokenized_tweet = tweet_lower.apply(lambda x: x.split())\n",
    "    \n",
    "    # removal of stopwords\n",
    "    tokenized_tweet=  tokenized_tweet.apply(lambda x: [item for item in x if item not in stopwords])\n",
    "    \n",
    "    # stemming of the tweets\n",
    "    tokenized_tweet = tokenized_tweet.apply(lambda x: [stemmer.stem(i) for i in x]) \n",
    "    \n",
    "    for i in range(len(tokenized_tweet)):\n",
    "        tokenized_tweet[i] = ' '.join(tokenized_tweet[i])\n",
    "        tweets_p= tokenized_tweet\n",
    "    \n",
    "    return tweets_p\n",
    "\n",
    "#remove emoji\n",
    "def remove_special_characters(text):\n",
    "    emoji_pattern = re.compile(\n",
    "        '['\n",
    "        u'\\U0001F600-\\U0001F64F'  # emoticons\n",
    "        u'\\U0001F300-\\U0001F5FF'  # symbols & pictographs\n",
    "        u'\\U0001F680-\\U0001F6FF'  # transport & map symbols\n",
    "        u'\\U0001F1E0-\\U0001F1FF'  # flags (iOS)\n",
    "        u'\\U00002702-\\U000027B0'\n",
    "        u'\\U000024C2-\\U0001F251'\n",
    "        ']+',\n",
    "        flags=re.UNICODE)\n",
    "    return emoji_pattern.sub(r'', text)\n",
    "processed_tweets = preprocess(tweet)   \n",
    "\n",
    "dataset['processed_tweets'] = processed_tweets\n",
    "\n",
    "print(dataset[[\"processed_tweets\"]].head(10))"
   ]
  },
  {
   "cell_type": "code",
   "execution_count": 15,
   "id": "b9ef2a78",
   "metadata": {},
   "outputs": [
    {
     "data": {
      "text/html": [
       "<div>\n",
       "<style scoped>\n",
       "    .dataframe tbody tr th:only-of-type {\n",
       "        vertical-align: middle;\n",
       "    }\n",
       "\n",
       "    .dataframe tbody tr th {\n",
       "        vertical-align: top;\n",
       "    }\n",
       "\n",
       "    .dataframe thead th {\n",
       "        text-align: right;\n",
       "    }\n",
       "</style>\n",
       "<table border=\"1\" class=\"dataframe\">\n",
       "  <thead>\n",
       "    <tr style=\"text-align: right;\">\n",
       "      <th></th>\n",
       "      <th>class</th>\n",
       "      <th>tweet</th>\n",
       "      <th>processed_tweets</th>\n",
       "      <th>tokenized</th>\n",
       "    </tr>\n",
       "  </thead>\n",
       "  <tbody>\n",
       "    <tr>\n",
       "      <th>0</th>\n",
       "      <td>0</td>\n",
       "      <td>\"@Blackman38Tide: @WhaleLookyHere @HowdyDowdy1...</td>\n",
       "      <td>queer gaywad</td>\n",
       "      <td>[queer, gaywad]</td>\n",
       "    </tr>\n",
       "    <tr>\n",
       "      <th>1</th>\n",
       "      <td>0</td>\n",
       "      <td>\"@CB_Baby24: @white_thunduh alsarabsss\" hes a ...</td>\n",
       "      <td>alsarabsss he beaner smh tell he mexican</td>\n",
       "      <td>[alsarabsss, he, beaner, smh, tell, he, mexican]</td>\n",
       "    </tr>\n",
       "    <tr>\n",
       "      <th>2</th>\n",
       "      <td>0</td>\n",
       "      <td>\"@DevilGrimz: @VigxRArts you're fucking gay, b...</td>\n",
       "      <td>fuck gay blacklist hoe hold tehgodclan anyway</td>\n",
       "      <td>[fuck, gay, blacklist, hoe, hold, tehgodclan, ...</td>\n",
       "    </tr>\n",
       "    <tr>\n",
       "      <th>3</th>\n",
       "      <td>0</td>\n",
       "      <td>\"@MarkRoundtreeJr: LMFAOOOO I HATE BLACK PEOPL...</td>\n",
       "      <td>lmfaoooo hate black peopl black peopl nigger</td>\n",
       "      <td>[lmfaoooo, hate, black, peopl, black, peopl, n...</td>\n",
       "    </tr>\n",
       "    <tr>\n",
       "      <th>4</th>\n",
       "      <td>0</td>\n",
       "      <td>\"@NoChillPaz: \"At least I'm not a nigger\" http...</td>\n",
       "      <td>least nigger lmfao</td>\n",
       "      <td>[least, nigger, lmfao]</td>\n",
       "    </tr>\n",
       "  </tbody>\n",
       "</table>\n",
       "</div>"
      ],
      "text/plain": [
       "   class                                              tweet  \\\n",
       "0      0  \"@Blackman38Tide: @WhaleLookyHere @HowdyDowdy1...   \n",
       "1      0  \"@CB_Baby24: @white_thunduh alsarabsss\" hes a ...   \n",
       "2      0  \"@DevilGrimz: @VigxRArts you're fucking gay, b...   \n",
       "3      0  \"@MarkRoundtreeJr: LMFAOOOO I HATE BLACK PEOPL...   \n",
       "4      0  \"@NoChillPaz: \"At least I'm not a nigger\" http...   \n",
       "\n",
       "                                processed_tweets  \\\n",
       "0                                   queer gaywad   \n",
       "1       alsarabsss he beaner smh tell he mexican   \n",
       "2  fuck gay blacklist hoe hold tehgodclan anyway   \n",
       "3   lmfaoooo hate black peopl black peopl nigger   \n",
       "4                             least nigger lmfao   \n",
       "\n",
       "                                           tokenized  \n",
       "0                                    [queer, gaywad]  \n",
       "1   [alsarabsss, he, beaner, smh, tell, he, mexican]  \n",
       "2  [fuck, gay, blacklist, hoe, hold, tehgodclan, ...  \n",
       "3  [lmfaoooo, hate, black, peopl, black, peopl, n...  \n",
       "4                             [least, nigger, lmfao]  "
      ]
     },
     "execution_count": 15,
     "metadata": {},
     "output_type": "execute_result"
    }
   ],
   "source": [
    "dataset['tokenized'] = dataset['processed_tweets'].apply(word_tokenize)\n",
    "dataset.head()"
   ]
  },
  {
   "cell_type": "code",
   "execution_count": 16,
   "id": "2da4eb5c",
   "metadata": {},
   "outputs": [
    {
     "data": {
      "text/html": [
       "<div>\n",
       "<style scoped>\n",
       "    .dataframe tbody tr th:only-of-type {\n",
       "        vertical-align: middle;\n",
       "    }\n",
       "\n",
       "    .dataframe tbody tr th {\n",
       "        vertical-align: top;\n",
       "    }\n",
       "\n",
       "    .dataframe thead th {\n",
       "        text-align: right;\n",
       "    }\n",
       "</style>\n",
       "<table border=\"1\" class=\"dataframe\">\n",
       "  <thead>\n",
       "    <tr style=\"text-align: right;\">\n",
       "      <th></th>\n",
       "      <th>class</th>\n",
       "      <th>tweet</th>\n",
       "      <th>processed_tweets</th>\n",
       "      <th>tokenized</th>\n",
       "      <th>combined_postag_wnet</th>\n",
       "    </tr>\n",
       "  </thead>\n",
       "  <tbody>\n",
       "    <tr>\n",
       "      <th>0</th>\n",
       "      <td>0</td>\n",
       "      <td>\"@Blackman38Tide: @WhaleLookyHere @HowdyDowdy1...</td>\n",
       "      <td>queer gaywad</td>\n",
       "      <td>[queer, gaywad]</td>\n",
       "      <td>[(queer, n), (gaywad, n)]</td>\n",
       "    </tr>\n",
       "    <tr>\n",
       "      <th>1</th>\n",
       "      <td>0</td>\n",
       "      <td>\"@CB_Baby24: @white_thunduh alsarabsss\" hes a ...</td>\n",
       "      <td>alsarabsss he beaner smh tell he mexican</td>\n",
       "      <td>[alsarabsss, he, beaner, smh, tell, he, mexican]</td>\n",
       "      <td>[(alsarabsss, n), (he, n), (beaner, n), (smh, ...</td>\n",
       "    </tr>\n",
       "    <tr>\n",
       "      <th>2</th>\n",
       "      <td>0</td>\n",
       "      <td>\"@DevilGrimz: @VigxRArts you're fucking gay, b...</td>\n",
       "      <td>fuck gay blacklist hoe hold tehgodclan anyway</td>\n",
       "      <td>[fuck, gay, blacklist, hoe, hold, tehgodclan, ...</td>\n",
       "      <td>[(fuck, n), (gay, a), (blacklist, n), (hoe, n)...</td>\n",
       "    </tr>\n",
       "    <tr>\n",
       "      <th>3</th>\n",
       "      <td>0</td>\n",
       "      <td>\"@MarkRoundtreeJr: LMFAOOOO I HATE BLACK PEOPL...</td>\n",
       "      <td>lmfaoooo hate black peopl black peopl nigger</td>\n",
       "      <td>[lmfaoooo, hate, black, peopl, black, peopl, n...</td>\n",
       "      <td>[(lmfaoooo, n), (hate, v), (black, a), (peopl,...</td>\n",
       "    </tr>\n",
       "    <tr>\n",
       "      <th>4</th>\n",
       "      <td>0</td>\n",
       "      <td>\"@NoChillPaz: \"At least I'm not a nigger\" http...</td>\n",
       "      <td>least nigger lmfao</td>\n",
       "      <td>[least, nigger, lmfao]</td>\n",
       "      <td>[(least, n), (nigger, n), (lmfao, n)]</td>\n",
       "    </tr>\n",
       "  </tbody>\n",
       "</table>\n",
       "</div>"
      ],
      "text/plain": [
       "   class                                              tweet  \\\n",
       "0      0  \"@Blackman38Tide: @WhaleLookyHere @HowdyDowdy1...   \n",
       "1      0  \"@CB_Baby24: @white_thunduh alsarabsss\" hes a ...   \n",
       "2      0  \"@DevilGrimz: @VigxRArts you're fucking gay, b...   \n",
       "3      0  \"@MarkRoundtreeJr: LMFAOOOO I HATE BLACK PEOPL...   \n",
       "4      0  \"@NoChillPaz: \"At least I'm not a nigger\" http...   \n",
       "\n",
       "                                processed_tweets  \\\n",
       "0                                   queer gaywad   \n",
       "1       alsarabsss he beaner smh tell he mexican   \n",
       "2  fuck gay blacklist hoe hold tehgodclan anyway   \n",
       "3   lmfaoooo hate black peopl black peopl nigger   \n",
       "4                             least nigger lmfao   \n",
       "\n",
       "                                           tokenized  \\\n",
       "0                                    [queer, gaywad]   \n",
       "1   [alsarabsss, he, beaner, smh, tell, he, mexican]   \n",
       "2  [fuck, gay, blacklist, hoe, hold, tehgodclan, ...   \n",
       "3  [lmfaoooo, hate, black, peopl, black, peopl, n...   \n",
       "4                             [least, nigger, lmfao]   \n",
       "\n",
       "                                combined_postag_wnet  \n",
       "0                          [(queer, n), (gaywad, n)]  \n",
       "1  [(alsarabsss, n), (he, n), (beaner, n), (smh, ...  \n",
       "2  [(fuck, n), (gay, a), (blacklist, n), (hoe, n)...  \n",
       "3  [(lmfaoooo, n), (hate, v), (black, a), (peopl,...  \n",
       "4              [(least, n), (nigger, n), (lmfao, n)]  "
      ]
     },
     "execution_count": 16,
     "metadata": {},
     "output_type": "execute_result"
    }
   ],
   "source": [
    "#POS\n",
    "wordnet_map = {\"N\":wordnet.NOUN, \n",
    "               \"V\":wordnet.VERB, \n",
    "               \"J\":wordnet.ADJ, \n",
    "               \"R\":wordnet.ADV\n",
    "              }\n",
    "    \n",
    "train_sents = brown.tagged_sents(categories='news')\n",
    "t0 = nltk.DefaultTagger('NN')\n",
    "t1 = nltk.UnigramTagger(train_sents, backoff=t0)\n",
    "t2 = nltk.BigramTagger(train_sents, backoff=t1)\n",
    "\n",
    "def pos_tag_wordnet(text, pos_tag_type=\"pos_tag\"):\n",
    "    \"\"\"\n",
    "        Create pos_tag with wordnet format\n",
    "    \"\"\"\n",
    "    pos_tagged_text = t2.tag(text)\n",
    "    \n",
    "    # map the pos tagging output with wordnet output \n",
    "    pos_tagged_text = [(word, wordnet_map.get(pos_tag[0])) if pos_tag[0] in wordnet_map.keys() else (word, wordnet.NOUN) for (word, pos_tag) in pos_tagged_text ]\n",
    "    return pos_tagged_text\n",
    "\n",
    "pos_tag_wordnet(dataset['tokenized'][2])\n",
    "\n",
    "dataset['combined_postag_wnet'] = dataset['tokenized'].apply(lambda x: pos_tag_wordnet(x))\n",
    "dataset.head()"
   ]
  },
  {
   "cell_type": "code",
   "execution_count": 17,
   "id": "88beb3e3",
   "metadata": {},
   "outputs": [
    {
     "data": {
      "text/html": [
       "<div>\n",
       "<style scoped>\n",
       "    .dataframe tbody tr th:only-of-type {\n",
       "        vertical-align: middle;\n",
       "    }\n",
       "\n",
       "    .dataframe tbody tr th {\n",
       "        vertical-align: top;\n",
       "    }\n",
       "\n",
       "    .dataframe thead th {\n",
       "        text-align: right;\n",
       "    }\n",
       "</style>\n",
       "<table border=\"1\" class=\"dataframe\">\n",
       "  <thead>\n",
       "    <tr style=\"text-align: right;\">\n",
       "      <th></th>\n",
       "      <th>class</th>\n",
       "      <th>tweet</th>\n",
       "      <th>processed_tweets</th>\n",
       "      <th>tokenized</th>\n",
       "      <th>combined_postag_wnet</th>\n",
       "      <th>lemmatize_word_w_pos</th>\n",
       "      <th>lemmatize_text</th>\n",
       "    </tr>\n",
       "  </thead>\n",
       "  <tbody>\n",
       "    <tr>\n",
       "      <th>0</th>\n",
       "      <td>0</td>\n",
       "      <td>\"@Blackman38Tide: @WhaleLookyHere @HowdyDowdy1...</td>\n",
       "      <td>queer gaywad</td>\n",
       "      <td>[queer, gaywad]</td>\n",
       "      <td>[(queer, n), (gaywad, n)]</td>\n",
       "      <td>[queer, gaywad]</td>\n",
       "      <td>queer gaywad</td>\n",
       "    </tr>\n",
       "    <tr>\n",
       "      <th>1</th>\n",
       "      <td>0</td>\n",
       "      <td>\"@CB_Baby24: @white_thunduh alsarabsss\" hes a ...</td>\n",
       "      <td>alsarabsss he beaner smh tell he mexican</td>\n",
       "      <td>[alsarabsss, he, beaner, smh, tell, he, mexican]</td>\n",
       "      <td>[(alsarabsss, n), (he, n), (beaner, n), (smh, ...</td>\n",
       "      <td>[alsarabsss, he, beaner, smh, tell, he, mexican]</td>\n",
       "      <td>alsarabsss he beaner smh tell he mexican</td>\n",
       "    </tr>\n",
       "    <tr>\n",
       "      <th>2</th>\n",
       "      <td>0</td>\n",
       "      <td>\"@DevilGrimz: @VigxRArts you're fucking gay, b...</td>\n",
       "      <td>fuck gay blacklist hoe hold tehgodclan anyway</td>\n",
       "      <td>[fuck, gay, blacklist, hoe, hold, tehgodclan, ...</td>\n",
       "      <td>[(fuck, n), (gay, a), (blacklist, n), (hoe, n)...</td>\n",
       "      <td>[fuck, gay, blacklist, hoe, hold, tehgodclan, ...</td>\n",
       "      <td>fuck gay blacklist hoe hold tehgodclan anyway</td>\n",
       "    </tr>\n",
       "    <tr>\n",
       "      <th>3</th>\n",
       "      <td>0</td>\n",
       "      <td>\"@MarkRoundtreeJr: LMFAOOOO I HATE BLACK PEOPL...</td>\n",
       "      <td>lmfaoooo hate black peopl black peopl nigger</td>\n",
       "      <td>[lmfaoooo, hate, black, peopl, black, peopl, n...</td>\n",
       "      <td>[(lmfaoooo, n), (hate, v), (black, a), (peopl,...</td>\n",
       "      <td>[lmfaoooo, hate, black, peopl, black, peopl, n...</td>\n",
       "      <td>lmfaoooo hate black peopl black peopl nigger</td>\n",
       "    </tr>\n",
       "    <tr>\n",
       "      <th>4</th>\n",
       "      <td>0</td>\n",
       "      <td>\"@NoChillPaz: \"At least I'm not a nigger\" http...</td>\n",
       "      <td>least nigger lmfao</td>\n",
       "      <td>[least, nigger, lmfao]</td>\n",
       "      <td>[(least, n), (nigger, n), (lmfao, n)]</td>\n",
       "      <td>[least, nigger, lmfao]</td>\n",
       "      <td>least nigger lmfao</td>\n",
       "    </tr>\n",
       "  </tbody>\n",
       "</table>\n",
       "</div>"
      ],
      "text/plain": [
       "   class                                              tweet  \\\n",
       "0      0  \"@Blackman38Tide: @WhaleLookyHere @HowdyDowdy1...   \n",
       "1      0  \"@CB_Baby24: @white_thunduh alsarabsss\" hes a ...   \n",
       "2      0  \"@DevilGrimz: @VigxRArts you're fucking gay, b...   \n",
       "3      0  \"@MarkRoundtreeJr: LMFAOOOO I HATE BLACK PEOPL...   \n",
       "4      0  \"@NoChillPaz: \"At least I'm not a nigger\" http...   \n",
       "\n",
       "                                processed_tweets  \\\n",
       "0                                   queer gaywad   \n",
       "1       alsarabsss he beaner smh tell he mexican   \n",
       "2  fuck gay blacklist hoe hold tehgodclan anyway   \n",
       "3   lmfaoooo hate black peopl black peopl nigger   \n",
       "4                             least nigger lmfao   \n",
       "\n",
       "                                           tokenized  \\\n",
       "0                                    [queer, gaywad]   \n",
       "1   [alsarabsss, he, beaner, smh, tell, he, mexican]   \n",
       "2  [fuck, gay, blacklist, hoe, hold, tehgodclan, ...   \n",
       "3  [lmfaoooo, hate, black, peopl, black, peopl, n...   \n",
       "4                             [least, nigger, lmfao]   \n",
       "\n",
       "                                combined_postag_wnet  \\\n",
       "0                          [(queer, n), (gaywad, n)]   \n",
       "1  [(alsarabsss, n), (he, n), (beaner, n), (smh, ...   \n",
       "2  [(fuck, n), (gay, a), (blacklist, n), (hoe, n)...   \n",
       "3  [(lmfaoooo, n), (hate, v), (black, a), (peopl,...   \n",
       "4              [(least, n), (nigger, n), (lmfao, n)]   \n",
       "\n",
       "                                lemmatize_word_w_pos  \\\n",
       "0                                    [queer, gaywad]   \n",
       "1   [alsarabsss, he, beaner, smh, tell, he, mexican]   \n",
       "2  [fuck, gay, blacklist, hoe, hold, tehgodclan, ...   \n",
       "3  [lmfaoooo, hate, black, peopl, black, peopl, n...   \n",
       "4                             [least, nigger, lmfao]   \n",
       "\n",
       "                                  lemmatize_text  \n",
       "0                                   queer gaywad  \n",
       "1       alsarabsss he beaner smh tell he mexican  \n",
       "2  fuck gay blacklist hoe hold tehgodclan anyway  \n",
       "3   lmfaoooo hate black peopl black peopl nigger  \n",
       "4                             least nigger lmfao  "
      ]
     },
     "execution_count": 17,
     "metadata": {},
     "output_type": "execute_result"
    }
   ],
   "source": [
    "def lemmatize_word(text):\n",
    "\n",
    "    lemmatizer = WordNetLemmatizer()\n",
    "    lemma = [lemmatizer.lemmatize(word, tag) for word, tag in text]\n",
    "    return lemma\n",
    "\n",
    "lemmatizer = WordNetLemmatizer()\n",
    "\n",
    "dataset['lemmatize_word_w_pos'] = dataset['combined_postag_wnet'].apply(lambda x: lemmatize_word(x))\n",
    "# double check to remove stop words\n",
    "dataset['lemmatize_text'] = [' '.join(map(str, l)) for l in dataset['lemmatize_word_w_pos']] # join back to text\n",
    "\n",
    "dataset.head()"
   ]
  },
  {
   "cell_type": "code",
   "execution_count": 18,
   "id": "c497dc99",
   "metadata": {},
   "outputs": [
    {
     "name": "stdout",
     "output_type": "stream",
     "text": [
      "(35929, 94728)\n"
     ]
    }
   ],
   "source": [
    "# Extract features using the TF-IDF vectorizer\n",
    "tfidf_vectorizer = TfidfVectorizer(ngram_range=(1,2), max_df=0.75, min_df=1)\n",
    "\n",
    "# TF-IDF feature matrix\n",
    "tfidf = tfidf_vectorizer.fit_transform(dataset['processed_tweets'] )\n",
    "print(tfidf.shape)"
   ]
  },
  {
   "cell_type": "code",
   "execution_count": 19,
   "id": "c1b676b0",
   "metadata": {},
   "outputs": [],
   "source": [
    "# If you don't specify the random_state in the code, \n",
    "# then every time you run(execute) your code a new random value is generated \n",
    "# and the train and test datasets would have different values each time\n",
    "\n",
    "X = tfidf\n",
    "y = dataset['class'].astype(int)\n",
    "X_train_tfidf, X_test_tfidf, y_train, y_test = train_test_split(X, y, random_state=42, test_size=0.2)"
   ]
  },
  {
   "cell_type": "code",
   "execution_count": 20,
   "id": "9b54d5c8",
   "metadata": {},
   "outputs": [
    {
     "name": "stdout",
     "output_type": "stream",
     "text": [
      "              precision    recall  f1-score   support\n",
      "\n",
      "           0       0.97      1.00      0.98      2313\n",
      "           1       1.00      0.92      0.96      2437\n",
      "           2       0.96      1.00      0.98      2436\n",
      "\n",
      "    accuracy                           0.97      7186\n",
      "   macro avg       0.97      0.97      0.97      7186\n",
      "weighted avg       0.97      0.97      0.97      7186\n",
      "\n",
      "Random Forest, Accuracy Score: 0.9730030615084887 -> 97.30%\n",
      "Random Forest, pre Score: 0.9730030615084887 -> 97.30%\n",
      "Random Forest, recall Score: 0.9730030615084887 -> 97.30%\n",
      "Random Forest, f1-score: 0.9727565148552507 -> 97.28%\n"
     ]
    }
   ],
   "source": [
    "#RF\n",
    "rf=RandomForestClassifier()\n",
    "rf.fit(X_train_tfidf,y_train)\n",
    "y_preds = rf.predict(X_test_tfidf)\n",
    "acc1=accuracy_score(y_test,y_preds)\n",
    "precision1=accuracy_score(y_test,y_preds)\n",
    "recall1 = recall_score(y_test,y_preds, average='weighted')\n",
    "f1 = f1_score(y_test,y_preds, average='weighted')\n",
    "report = classification_report( y_test, y_preds)\n",
    "print(report)\n",
    "print(\"Random Forest, Accuracy Score:\",acc1,\"-> {:.2f}%\".format(acc1*100))\n",
    "print(\"Random Forest, pre Score:\",precision1,\"-> {:.2f}%\".format(precision1*100))\n",
    "print(\"Random Forest, recall Score:\",recall1,\"-> {:.2f}%\".format(recall1*100))\n",
    "print(\"Random Forest, f1-score:\",f1,\"-> {:.2f}%\".format(f1*100))"
   ]
  },
  {
   "cell_type": "code",
   "execution_count": 21,
   "id": "ae14adba",
   "metadata": {},
   "outputs": [
    {
     "data": {
      "image/png": "[encoded data removed]",
      "text/plain": [
       "<Figure size 500x500 with 1 Axes>"
      ]
     },
     "metadata": {},
     "output_type": "display_data"
    }
   ],
   "source": [
    "cm = confusion_matrix(y_test,y_preds)\n",
    "matrix_proportions = np.zeros((3,3))\n",
    "for i in range(0,3):\n",
    "    matrix_proportions[i,:] = cm[i,:]/float(cm[i,:].sum())\n",
    "names=['Hate','Offensive','Neither']\n",
    "confusion_df = pd.DataFrame(matrix_proportions, index=names,columns=names)\n",
    "plt.figure(figsize=(5,5))\n",
    "sns.heatmap(confusion_df,annot=True,annot_kws={\"size\": 12},cmap='YlGnBu',cbar=False, square=True,fmt='.2f')\n",
    "plt.ylabel(r'True Value',fontsize=14)\n",
    "plt.xlabel(r'Predicted Value',fontsize=14)\n",
    "plt.tick_params(labelsize=12)"
   ]
  },
  {
   "cell_type": "code",
   "execution_count": 40,
   "id": "66623517",
   "metadata": {},
   "outputs": [
    {
     "name": "stdout",
     "output_type": "stream",
     "text": [
      "Class label:  1\n",
      "Percentage probabilities - Hate: 44.60%, Offensive: 53.27%, Neither: 2.13%\n"
     ]
    }
   ],
   "source": [
    "# Replace the tweet_text with your tweet\n",
    "tweet_text = \"shut fuck up\"\n",
    "\n",
    "# Transform the tweet into a TF-IDF feature vector\n",
    "tweet_tfidf = tfidf_vectorizer.transform([tweet_text])\n",
    "\n",
    "# Predict the class label of the tweet using the trained Random Forest model\n",
    "class_label = rf.predict(tweet_tfidf)[0]\n",
    "\n",
    "# Get the probability estimates for each class using the predict_proba() method\n",
    "class_probs = rf.predict_proba(tweet_tfidf)[0]\n",
    "\n",
    "# Print the class label and its corresponding percentage probability\n",
    "print(\"Class label: \", class_label)\n",
    "print(\"Percentage probabilities - Hate: {:.2f}%, Offensive: {:.2f}%, Neither: {:.2f}%\".format(class_probs[0]*100, class_probs[1]*100, class_probs[2]*100))"
   ]
  },
  {
   "cell_type": "code",
   "execution_count": null,
   "id": "a3b43a74",
   "metadata": {},
   "outputs": [],
   "source": [
    "import pickle \n",
    "pickle.dump(rd,open('Final_Model.pkl','wb'))"
   ]
  }
 ],
 "metadata": {
  "kernelspec": {
   "display_name": "Python 3 (ipykernel)",
   "language": "python",
   "name": "python3"
  },
  "language_info": {
   "codemirror_mode": {
    "name": "ipython",
    "version": 3
   },
   "file_extension": ".py",
   "mimetype": "text/x-python",
   "name": "python",
   "nbconvert_exporter": "python",
   "pygments_lexer": "ipython3",
   "version": "3.9.13"
  }
 },
 "nbformat": 4,
 "nbformat_minor": 5
}
